{
 "cells": [
  {
   "cell_type": "markdown",
   "metadata": {
    "id": "FcFnVB2Q9uO8"
   },
   "source": [
    "# Contrastive Learning using MSCOCO dataset\n",
    "\n",
    "First of all import the basic labraries to be used in the rest of the notobook"
   ]
  },
  {
   "cell_type": "code",
   "execution_count": null,
   "metadata": {
    "executionInfo": {
     "elapsed": 1005,
     "status": "ok",
     "timestamp": 1602155294749,
     "user": {
      "displayName": "Dario Dematties Reyes",
      "photoUrl": "https://lh3.googleusercontent.com/a-/AOh14Ghbm_vK9SGiVgOHPAJKbjYBXYYIaiOlPb-OHTeErg=s64",
      "userId": "00584130990476158654"
     },
     "user_tz": 180
    },
    "id": "m-D01RTY9uO_"
   },
   "outputs": [],
   "source": [
    "import sys\n",
    "import random\n",
    "import numpy as np\n",
    "import torch\n",
    "import torchvision.datasets as dset\n",
    "import torchvision.transforms as transforms\n",
    "import matplotlib.pyplot as plt"
   ]
  },
  {
   "cell_type": "code",
   "execution_count": null,
   "metadata": {
    "colab": {
     "base_uri": "https://localhost:8080/"
    },
    "executionInfo": {
     "elapsed": 980,
     "status": "ok",
     "timestamp": 1602155294750,
     "user": {
      "displayName": "Dario Dematties Reyes",
      "photoUrl": "https://lh3.googleusercontent.com/a-/AOh14Ghbm_vK9SGiVgOHPAJKbjYBXYYIaiOlPb-OHTeErg=s64",
      "userId": "00584130990476158654"
     },
     "user_tz": 180
    },
    "id": "GNabdw1G9134",
    "outputId": "cfa77db8-5fc6-4bc5-f483-314a3c632d9c"
   },
   "outputs": [],
   "source": [
    "from google.colab import drive\n",
    "drive.mount('/content/drive')"
   ]
  },
  {
   "cell_type": "markdown",
   "metadata": {
    "id": "-kBejd2q9uPG"
   },
   "source": [
    "\n",
    "Check the device available"
   ]
  },
  {
   "cell_type": "code",
   "execution_count": null,
   "metadata": {
    "colab": {
     "base_uri": "https://localhost:8080/"
    },
    "executionInfo": {
     "elapsed": 804,
     "status": "ok",
     "timestamp": 1602155294752,
     "user": {
      "displayName": "Dario Dematties Reyes",
      "photoUrl": "https://lh3.googleusercontent.com/a-/AOh14Ghbm_vK9SGiVgOHPAJKbjYBXYYIaiOlPb-OHTeErg=s64",
      "userId": "00584130990476158654"
     },
     "user_tz": 180
    },
    "id": "4Af6pxTM9uPH",
    "outputId": "1c0ed71b-a989-4a0f-f645-f7344184af1a"
   },
   "outputs": [],
   "source": [
    "device = torch.device('cuda' if torch.cuda.is_available() else 'cpu')\n",
    "print('Using device:', device)\n",
    "print()"
   ]
  },
  {
   "cell_type": "markdown",
   "metadata": {
    "id": "YvoJNCc29uPO"
   },
   "source": [
    "## This is for image Captioning section from MSCOCO"
   ]
  },
  {
   "cell_type": "code",
   "execution_count": null,
   "metadata": {
    "colab": {
     "base_uri": "https://localhost:8080/"
    },
    "executionInfo": {
     "elapsed": 1838,
     "status": "ok",
     "timestamp": 1602153671216,
     "user": {
      "displayName": "Dario Dematties Reyes",
      "photoUrl": "https://lh3.googleusercontent.com/a-/AOh14Ghbm_vK9SGiVgOHPAJKbjYBXYYIaiOlPb-OHTeErg=s64",
      "userId": "00584130990476158654"
     },
     "user_tz": 180
    },
    "id": "Wpe0Tqpn9uPP",
    "outputId": "61345b52-014e-474c-b864-f408103dbd37"
   },
   "outputs": [],
   "source": [
    "# This is the path where I have the dataset\n",
    "path = '/content/drive/My Drive'\n",
    "\n",
    "cap = dset.CocoCaptions(root= path + '/MSCOCO/cocoapi/images/val2014',\n",
    "                        annFile= path + '/MSCOCO/cocoapi/annotations/captions_val2014.json',\n",
    "                        transform=transforms.ToTensor())"
   ]
  },
  {
   "cell_type": "markdown",
   "metadata": {
    "id": "PsdaxhUy9uP7"
   },
   "source": [
    "## Foveated Retinal Processor\n",
    "\n",
    "First of all, install a compatible version of NVIDIA DALI"
   ]
  },
  {
   "cell_type": "code",
   "execution_count": null,
   "metadata": {
    "colab": {
     "base_uri": "https://localhost:8080/"
    },
    "executionInfo": {
     "elapsed": 2872,
     "status": "ok",
     "timestamp": 1602155305907,
     "user": {
      "displayName": "Dario Dematties Reyes",
      "photoUrl": "https://lh3.googleusercontent.com/a-/AOh14Ghbm_vK9SGiVgOHPAJKbjYBXYYIaiOlPb-OHTeErg=s64",
      "userId": "00584130990476158654"
     },
     "user_tz": 180
    },
    "id": "vhiPZoilKzS9",
    "outputId": "92248df7-aac8-47be-dd46-1aadf2c18034"
   },
   "outputs": [],
   "source": [
    "!pip install --extra-index-url https://developer.download.nvidia.com/compute/redist nvidia-dali-cuda100\n",
    "#!pip install --extra-index-url https://developer.download.nvidia.com/compute/redist nvidia-dali-cuda110"
   ]
  },
  {
   "cell_type": "code",
   "execution_count": null,
   "metadata": {
    "executionInfo": {
     "elapsed": 812,
     "status": "ok",
     "timestamp": 1602155306894,
     "user": {
      "displayName": "Dario Dematties Reyes",
      "photoUrl": "https://lh3.googleusercontent.com/a-/AOh14Ghbm_vK9SGiVgOHPAJKbjYBXYYIaiOlPb-OHTeErg=s64",
      "userId": "00584130990476158654"
     },
     "user_tz": 180
    },
    "id": "AqkDGAdoK2-c"
   },
   "outputs": [],
   "source": [
    "path = '/content/drive/My Drive'\n",
    "\n",
    "from time import time\n",
    "sys.path.append(path + '/Colab Notebooks/Multimodal Active AI/SimCLR/NVIDIA DALI')\n",
    "import NVIDIA_DALI_Pipelines as NDP"
   ]
  },
  {
   "cell_type": "markdown",
   "metadata": {
    "id": "z_ZfenPaLD8e"
   },
   "source": [
    "Reader operator that reads a COCO dataset (or subset of COCO), which consists of an annotation file and the images directory."
   ]
  },
  {
   "cell_type": "code",
   "execution_count": null,
   "metadata": {
    "colab": {
     "base_uri": "https://localhost:8080/"
    },
    "executionInfo": {
     "elapsed": 6811,
     "status": "ok",
     "timestamp": 1602153676240,
     "user": {
      "displayName": "Dario Dematties Reyes",
      "photoUrl": "https://lh3.googleusercontent.com/a-/AOh14Ghbm_vK9SGiVgOHPAJKbjYBXYYIaiOlPb-OHTeErg=s64",
      "userId": "00584130990476158654"
     },
     "user_tz": 180
    },
    "id": "3a6dRa9yLU0v",
    "outputId": "c68db93b-44ea-40b2-c5fe-b1ec6e918910"
   },
   "outputs": [],
   "source": [
    "num_gpus = 1\n",
    "batch_size = 4\n",
    "#batch_size = 1024*2\n",
    "start = time()\n",
    "pipes = [NDP.COCOReader(batch_size=batch_size, num_threads=2, device_id = device_id, num_gpus = num_gpus)  for device_id in range(num_gpus)]\n",
    "for pipe in pipes:\n",
    "    pipe.build()\n",
    "total_time = time() - start\n",
    "print(\"Computation graph built and dataset loaded in %f seconds.\" % total_time)"
   ]
  },
  {
   "cell_type": "code",
   "execution_count": null,
   "metadata": {
    "executionInfo": {
     "elapsed": 6798,
     "status": "ok",
     "timestamp": 1602153676243,
     "user": {
      "displayName": "Dario Dematties Reyes",
      "photoUrl": "https://lh3.googleusercontent.com/a-/AOh14Ghbm_vK9SGiVgOHPAJKbjYBXYYIaiOlPb-OHTeErg=s64",
      "userId": "00584130990476158654"
     },
     "user_tz": 180
    },
    "id": "Vf5nQu8LL_3T"
   },
   "outputs": [],
   "source": [
    "pipe_out = [pipe.run() for pipe in pipes]\n",
    "\n",
    "images_gpu = pipe_out[0][0]\n",
    "\n",
    "images_cpu = pipe_out[0][0].as_cpu()\n",
    "bboxes_cpu = pipe_out[0][1]\n",
    "labels_cpu = pipe_out[0][2]"
   ]
  },
  {
   "cell_type": "markdown",
   "metadata": {
    "id": "VIb-HrFpPDif"
   },
   "source": [
    "Let’s see the ground truth bounding boxes drawn on the image.\n"
   ]
  },
  {
   "cell_type": "code",
   "execution_count": null,
   "metadata": {
    "colab": {
     "base_uri": "https://localhost:8080/",
     "height": 269
    },
    "executionInfo": {
     "elapsed": 6789,
     "status": "ok",
     "timestamp": 1602153676245,
     "user": {
      "displayName": "Dario Dematties Reyes",
      "photoUrl": "https://lh3.googleusercontent.com/a-/AOh14Ghbm_vK9SGiVgOHPAJKbjYBXYYIaiOlPb-OHTeErg=s64",
      "userId": "00584130990476158654"
     },
     "user_tz": 180
    },
    "id": "oOzslLRjPFLP",
    "outputId": "a4b7dea1-b5e3-49bc-8e3f-009b0141ba63"
   },
   "outputs": [],
   "source": [
    "img_index = 3\n",
    "\n",
    "import matplotlib.pyplot as plt\n",
    "import matplotlib.patches as patches\n",
    "import random\n",
    "\n",
    "img = images_cpu.at(img_index)\n",
    "\n",
    "H = img.shape[0]\n",
    "W = img.shape[1]\n",
    "\n",
    "fig,ax = plt.subplots(1)\n",
    "\n",
    "ax.imshow(img)\n",
    "bboxes = bboxes_cpu.at(img_index)\n",
    "labels = labels_cpu.at(img_index)\n",
    "categories_set = set()\n",
    "for label in labels:\n",
    "    categories_set.add(label[0])\n",
    "\n",
    "category_id_to_color = dict(\n",
    "    [ (cat_id , [random.uniform(0, 1) ,random.uniform(0, 1), random.uniform(0, 1)]) for cat_id in categories_set])\n",
    "\n",
    "for bbox, label in zip(bboxes, labels):\n",
    "    rect = patches.Rectangle(\n",
    "        (bbox[0]*W,bbox[1]*H),\n",
    "        (bbox[2] - bbox[0]) * W,\n",
    "        (bbox[3] - bbox[1]) * H,\n",
    "        linewidth=2,\n",
    "        edgecolor=category_id_to_color[label[0]],\n",
    "        facecolor='none')\n",
    "    ax.add_patch(rect)\n",
    "\n",
    "plt.show()"
   ]
  },
  {
   "cell_type": "markdown",
   "metadata": {
    "id": "9jqIJB9vFBrz"
   },
   "source": [
    "## COCO Reader with augmentations\n",
    "\n",
    "Create reader, decoder and flip operator for images and bounding boxes"
   ]
  },
  {
   "cell_type": "code",
   "execution_count": null,
   "metadata": {
    "colab": {
     "base_uri": "https://localhost:8080/"
    },
    "executionInfo": {
     "elapsed": 7116,
     "status": "ok",
     "timestamp": 1602153676582,
     "user": {
      "displayName": "Dario Dematties Reyes",
      "photoUrl": "https://lh3.googleusercontent.com/a-/AOh14Ghbm_vK9SGiVgOHPAJKbjYBXYYIaiOlPb-OHTeErg=s64",
      "userId": "00584130990476158654"
     },
     "user_tz": 180
    },
    "id": "w1a0hIbAFGCD",
    "outputId": "5d65cf4d-0b63-425a-b511-683a19dd979e"
   },
   "outputs": [],
   "source": [
    "img_size = (30,30)\n",
    "NDP.fixation_pos_x = torch.rand((batch_size,1))\n",
    "NDP.fixation_pos_y = torch.rand((batch_size,1))\n",
    "NDP.fixation_angle = (torch.rand((batch_size,1))-0.5)*60\n",
    "\n",
    "#NDP.fixation_pos_x = torch.repeat_interleave(torch.Tensor([0]), batch_size).view(-1,1)\n",
    "#NDP.fixation_pos_y = torch.repeat_interleave(torch.Tensor([0]), batch_size).view(-1,1)\n",
    "#NDP.fixation_angle = torch.repeat_interleave(torch.Tensor([30]), batch_size).view(-1,1)\n",
    "\n",
    "images = NDP.ImageCollector()\n",
    "fixation = NDP.FixationCommand(batch_size)\n",
    "\n",
    "images.data = images_gpu\n",
    "\n",
    "start = time()\n",
    "pipes1 = [NDP.FoveatedRetinalProcessor(batch_size=batch_size, num_threads=2, device_id=device_id, num_gpus=num_gpus, fixation=fixation, images=images)  for device_id in range(num_gpus)]\n",
    "for pipe1 in pipes1:\n",
    "  pipe1.build()\n",
    "\n",
    "total_time = time() - start\n",
    "print(\"Computation graph built and dataset loaded in %f seconds.\" % total_time)"
   ]
  },
  {
   "cell_type": "code",
   "execution_count": null,
   "metadata": {
    "colab": {
     "base_uri": "https://localhost:8080/"
    },
    "executionInfo": {
     "elapsed": 16354,
     "status": "ok",
     "timestamp": 1602153685831,
     "user": {
      "displayName": "Dario Dematties Reyes",
      "photoUrl": "https://lh3.googleusercontent.com/a-/AOh14Ghbm_vK9SGiVgOHPAJKbjYBXYYIaiOlPb-OHTeErg=s64",
      "userId": "00584130990476158654"
     },
     "user_tz": 180
    },
    "id": "fHTIuu-dFM7t",
    "outputId": "4bb75661-7867-459a-831e-22465c25a6f2"
   },
   "outputs": [],
   "source": [
    "NDP.fixation_pos_x = torch.rand((batch_size,1))\n",
    "NDP.fixation_pos_y = torch.rand((batch_size,1))\n",
    "NDP.fixation_angle = (torch.rand((batch_size,1))-0.5)*60\n",
    "\n",
    "#NDP.fixation_pos_x = torch.repeat_interleave(torch.Tensor([0.5]), batch_size).view(-1,1)\n",
    "#NDP.fixation_pos_y = torch.repeat_interleave(torch.Tensor([0.5]), batch_size).view(-1,1)\n",
    "#NDP.fixation_angle = torch.repeat_interleave(torch.Tensor([30]), batch_size).view(-1,1)\n",
    "\n",
    "start = time()\n",
    "pipe_out1 = NDP.pytorch_wrapper(pipes1)\n",
    "#pipe_out1 = [pipe1.run() for pipe1 in pipes1]\n",
    "total_time = time() - start\n",
    "print(\"Computation graph run in %f seconds.\" % total_time)\n",
    "\n",
    "print('Does pipe_out1 live in GPU: ', pipe_out1[0][0].is_cuda)\n",
    "\n",
    "crop_images_cpu0 = pipe_out1[0][0].to('cpu')\n",
    "crop_images_cpu1 = pipe_out1[0][1].to('cpu')\n",
    "crop_images_cpu2 = pipe_out1[0][2].to('cpu')\n",
    "crop_images_cpu3 = pipe_out1[0][3].to('cpu')\n",
    "crop_images_cpu4 = pipe_out1[0][4].to('cpu')\n",
    "\n",
    "sized_images_cpu0 = pipe_out1[0][5].to('cpu')\n",
    "sized_images_cpu1 = pipe_out1[0][6].to('cpu')\n",
    "sized_images_cpu2 = pipe_out1[0][7].to('cpu')\n",
    "sized_images_cpu3 = pipe_out1[0][8].to('cpu')\n",
    "sized_images_cpu4 = pipe_out1[0][9].to('cpu')"
   ]
  },
  {
   "cell_type": "markdown",
   "metadata": {
    "id": "ctk-r7gOFUZZ"
   },
   "source": [
    "Let’s see the ground truth bounding boxes drawn on the image.\n"
   ]
  },
  {
   "cell_type": "code",
   "execution_count": null,
   "metadata": {
    "colab": {
     "base_uri": "https://localhost:8080/",
     "height": 1000
    },
    "executionInfo": {
     "elapsed": 18990,
     "status": "ok",
     "timestamp": 1602153688478,
     "user": {
      "displayName": "Dario Dematties Reyes",
      "photoUrl": "https://lh3.googleusercontent.com/a-/AOh14Ghbm_vK9SGiVgOHPAJKbjYBXYYIaiOlPb-OHTeErg=s64",
      "userId": "00584130990476158654"
     },
     "user_tz": 180
    },
    "id": "BCIsyzAbFVnf",
    "outputId": "7b44e1a7-1660-45cc-ca01-82a99a99a558"
   },
   "outputs": [],
   "source": [
    "index = img_index\n",
    "\n",
    "import matplotlib.pyplot as plt\n",
    "import matplotlib.patches as patches\n",
    "import random\n",
    "\n",
    "img0 = crop_images_cpu0[index]\n",
    "img1 = crop_images_cpu1[index]\n",
    "img2 = crop_images_cpu2[index]\n",
    "img3 = crop_images_cpu3[index]\n",
    "img4 = crop_images_cpu4[index]\n",
    "\n",
    "img5 = sized_images_cpu0[index]\n",
    "img6 = sized_images_cpu1[index]\n",
    "img7 = sized_images_cpu2[index]\n",
    "img8 = sized_images_cpu3[index]\n",
    "img9 = sized_images_cpu4[index]\n",
    "\n",
    "fig,ax = plt.subplots(5,2, figsize=(25,25))\n",
    "\n",
    "ax[0,0].imshow(img0)\n",
    "ax[1,0].imshow(img1)\n",
    "ax[2,0].imshow(img2)\n",
    "ax[3,0].imshow(img3)\n",
    "ax[4,0].imshow(img4)\n",
    "\n",
    "ax[0,1].imshow(img5)\n",
    "ax[1,1].imshow(img6)\n",
    "ax[2,1].imshow(img7)\n",
    "ax[3,1].imshow(img8)\n",
    "ax[4,1].imshow(img9)"
   ]
  },
  {
   "cell_type": "code",
   "execution_count": null,
   "metadata": {
    "colab": {
     "base_uri": "https://localhost:8080/"
    },
    "executionInfo": {
     "elapsed": 18978,
     "status": "ok",
     "timestamp": 1602153688480,
     "user": {
      "displayName": "Dario Dematties Reyes",
      "photoUrl": "https://lh3.googleusercontent.com/a-/AOh14Ghbm_vK9SGiVgOHPAJKbjYBXYYIaiOlPb-OHTeErg=s64",
      "userId": "00584130990476158654"
     },
     "user_tz": 180
    },
    "id": "cOWErpei9nVm",
    "outputId": "81a5c316-1ec8-46d8-a7e0-d79f24cad4ca"
   },
   "outputs": [],
   "source": [
    "NDP.fixation_pos_x = torch.rand((batch_size,1))\n",
    "NDP.fixation_pos_y = torch.rand((batch_size,1))\n",
    "NDP.fixation_angle = (torch.rand((batch_size,1))-0.5)*60\n",
    "\n",
    "#NDP.fixation_pos_x = torch.repeat_interleave(torch.Tensor([0.5]), batch_size).view(-1,1)\n",
    "#NDP.fixation_pos_y = torch.repeat_interleave(torch.Tensor([0.5]), batch_size).view(-1,1)\n",
    "#NDP.fixation_angle = torch.repeat_interleave(torch.Tensor([30]), batch_size).view(-1,1)\n",
    "\n",
    "start = time()\n",
    "pipe_out2 = NDP.pytorch_wrapper(pipes1)\n",
    "#pipe_out2 = [pipe1.run() for pipe1 in pipes1]\n",
    "total_time = time() - start\n",
    "print(\"Computation graph run in %f seconds.\" % total_time)\n",
    "\n",
    "print('Does pipe_out2 live in GPU: ', pipe_out2[0][0].is_cuda)\n",
    "\n",
    "crop_images_cpu0 = pipe_out2[0][0].to('cpu')\n",
    "crop_images_cpu1 = pipe_out2[0][1].to('cpu')\n",
    "crop_images_cpu2 = pipe_out2[0][2].to('cpu')\n",
    "crop_images_cpu3 = pipe_out2[0][3].to('cpu')\n",
    "crop_images_cpu4 = pipe_out2[0][4].to('cpu')\n",
    "\n",
    "sized_images_cpu0 = pipe_out2[0][5].to('cpu')\n",
    "sized_images_cpu1 = pipe_out2[0][6].to('cpu')\n",
    "sized_images_cpu2 = pipe_out2[0][7].to('cpu')\n",
    "sized_images_cpu3 = pipe_out2[0][8].to('cpu')\n",
    "sized_images_cpu4 = pipe_out2[0][9].to('cpu')"
   ]
  },
  {
   "cell_type": "code",
   "execution_count": null,
   "metadata": {
    "colab": {
     "base_uri": "https://localhost:8080/",
     "height": 1000
    },
    "executionInfo": {
     "elapsed": 20433,
     "status": "ok",
     "timestamp": 1602153689947,
     "user": {
      "displayName": "Dario Dematties Reyes",
      "photoUrl": "https://lh3.googleusercontent.com/a-/AOh14Ghbm_vK9SGiVgOHPAJKbjYBXYYIaiOlPb-OHTeErg=s64",
      "userId": "00584130990476158654"
     },
     "user_tz": 180
    },
    "id": "zyeS4GeO9s6c",
    "outputId": "296fb63a-a100-4015-9e3d-6b7a0be47725"
   },
   "outputs": [],
   "source": [
    "index = img_index\n",
    "\n",
    "import matplotlib.pyplot as plt\n",
    "import matplotlib.patches as patches\n",
    "import random\n",
    "\n",
    "img0 = crop_images_cpu0[index]\n",
    "img1 = crop_images_cpu1[index]\n",
    "img2 = crop_images_cpu2[index]\n",
    "img3 = crop_images_cpu3[index]\n",
    "img4 = crop_images_cpu4[index]\n",
    "\n",
    "img5 = sized_images_cpu0[index]\n",
    "img6 = sized_images_cpu1[index]\n",
    "img7 = sized_images_cpu2[index]\n",
    "img8 = sized_images_cpu3[index]\n",
    "img9 = sized_images_cpu4[index]\n",
    "\n",
    "fig,ax = plt.subplots(5,2, figsize=(25,25))\n",
    "\n",
    "ax[0,0].imshow(img0)\n",
    "ax[1,0].imshow(img1)\n",
    "ax[2,0].imshow(img2)\n",
    "ax[3,0].imshow(img3)\n",
    "ax[4,0].imshow(img4)\n",
    "\n",
    "ax[0,1].imshow(img5)\n",
    "ax[1,1].imshow(img6)\n",
    "ax[2,1].imshow(img7)\n",
    "ax[3,1].imshow(img8)\n",
    "ax[4,1].imshow(img9)"
   ]
  },
  {
   "cell_type": "markdown",
   "metadata": {
    "id": "U9WUj8qd9uQb"
   },
   "source": [
    "## ResNet\n",
    "\n",
    "First reshape the outputs from the foveated system"
   ]
  },
  {
   "cell_type": "code",
   "execution_count": null,
   "metadata": {
    "colab": {
     "base_uri": "https://localhost:8080/"
    },
    "executionInfo": {
     "elapsed": 20422,
     "status": "ok",
     "timestamp": 1602153689949,
     "user": {
      "displayName": "Dario Dematties Reyes",
      "photoUrl": "https://lh3.googleusercontent.com/a-/AOh14Ghbm_vK9SGiVgOHPAJKbjYBXYYIaiOlPb-OHTeErg=s64",
      "userId": "00584130990476158654"
     },
     "user_tz": 180
    },
    "id": "yAUrjWwPC8wC",
    "outputId": "60f33959-0699-4bca-ca93-9233023352b4"
   },
   "outputs": [],
   "source": [
    "print('pipe_out is a: ', type(pipe_out[0][0]))\n",
    "print('Is pipe_out1 livin in GPU: ', pipe_out1[0][0].is_cuda)\n",
    "print('Is pipe_out2 livin in GPU: ', pipe_out2[0][0].is_cuda)"
   ]
  },
  {
   "cell_type": "code",
   "execution_count": null,
   "metadata": {
    "colab": {
     "base_uri": "https://localhost:8080/"
    },
    "executionInfo": {
     "elapsed": 20410,
     "status": "ok",
     "timestamp": 1602153689951,
     "user": {
      "displayName": "Dario Dematties Reyes",
      "photoUrl": "https://lh3.googleusercontent.com/a-/AOh14Ghbm_vK9SGiVgOHPAJKbjYBXYYIaiOlPb-OHTeErg=s64",
      "userId": "00584130990476158654"
     },
     "user_tz": 180
    },
    "id": "D2NaIs2aIylz",
    "outputId": "29608d64-9510-42d5-d2bb-e848f8ccc272"
   },
   "outputs": [],
   "source": [
    "outputs1 = torch.stack(pipe_out1[0][5:]).permute(1,0,4,2,3).reshape(batch_size,-1,img_size[0],img_size[1])\n",
    "print(outputs1.shape)"
   ]
  },
  {
   "cell_type": "code",
   "execution_count": null,
   "metadata": {
    "colab": {
     "base_uri": "https://localhost:8080/",
     "height": 283
    },
    "executionInfo": {
     "elapsed": 20826,
     "status": "ok",
     "timestamp": 1602153690377,
     "user": {
      "displayName": "Dario Dematties Reyes",
      "photoUrl": "https://lh3.googleusercontent.com/a-/AOh14Ghbm_vK9SGiVgOHPAJKbjYBXYYIaiOlPb-OHTeErg=s64",
      "userId": "00584130990476158654"
     },
     "user_tz": 180
    },
    "id": "xyRlh3EP9uQz",
    "outputId": "9923c400-c246-4c2e-95dd-80e430676f98"
   },
   "outputs": [],
   "source": [
    "plt.imshow(outputs1[index,0:3,:,:].permute(1, 2, 0).to('cpu'))"
   ]
  },
  {
   "cell_type": "code",
   "execution_count": null,
   "metadata": {
    "colab": {
     "base_uri": "https://localhost:8080/"
    },
    "executionInfo": {
     "elapsed": 20816,
     "status": "ok",
     "timestamp": 1602153690379,
     "user": {
      "displayName": "Dario Dematties Reyes",
      "photoUrl": "https://lh3.googleusercontent.com/a-/AOh14Ghbm_vK9SGiVgOHPAJKbjYBXYYIaiOlPb-OHTeErg=s64",
      "userId": "00584130990476158654"
     },
     "user_tz": 180
    },
    "id": "YOLlR37V9uQ-",
    "outputId": "501b4dd7-bf9f-476d-b894-852f799f6131"
   },
   "outputs": [],
   "source": [
    "outputs2 = torch.stack(pipe_out2[0][5:]).permute(1,0,4,2,3).reshape(batch_size,-1,img_size[0],img_size[1])\n",
    "print(outputs2.shape)"
   ]
  },
  {
   "cell_type": "code",
   "execution_count": null,
   "metadata": {
    "colab": {
     "base_uri": "https://localhost:8080/",
     "height": 283
    },
    "executionInfo": {
     "elapsed": 20808,
     "status": "ok",
     "timestamp": 1602153690381,
     "user": {
      "displayName": "Dario Dematties Reyes",
      "photoUrl": "https://lh3.googleusercontent.com/a-/AOh14Ghbm_vK9SGiVgOHPAJKbjYBXYYIaiOlPb-OHTeErg=s64",
      "userId": "00584130990476158654"
     },
     "user_tz": 180
    },
    "id": "95GfNT5k9uRK",
    "outputId": "6157c2af-a89e-4042-d971-735c644ee084"
   },
   "outputs": [],
   "source": [
    "plt.imshow(outputs2[index,0:3,:,:].permute(1, 2, 0).to('cpu'))"
   ]
  },
  {
   "cell_type": "code",
   "execution_count": null,
   "metadata": {
    "executionInfo": {
     "elapsed": 1044,
     "status": "ok",
     "timestamp": 1602155327304,
     "user": {
      "displayName": "Dario Dematties Reyes",
      "photoUrl": "https://lh3.googleusercontent.com/a-/AOh14Ghbm_vK9SGiVgOHPAJKbjYBXYYIaiOlPb-OHTeErg=s64",
      "userId": "00584130990476158654"
     },
     "user_tz": 180
    },
    "id": "zf08POlp9uRV"
   },
   "outputs": [],
   "source": [
    "sys.path.append(path + '/Colab Notebooks/Multimodal Active AI/SimCLR/ResNet')\n",
    "import ResNet as rn"
   ]
  },
  {
   "cell_type": "code",
   "execution_count": null,
   "metadata": {
    "colab": {
     "base_uri": "https://localhost:8080/"
    },
    "executionInfo": {
     "elapsed": 5070,
     "status": "ok",
     "timestamp": 1602155331780,
     "user": {
      "displayName": "Dario Dematties Reyes",
      "photoUrl": "https://lh3.googleusercontent.com/a-/AOh14Ghbm_vK9SGiVgOHPAJKbjYBXYYIaiOlPb-OHTeErg=s64",
      "userId": "00584130990476158654"
     },
     "user_tz": 180
    },
    "id": "yOPqaSrP9uRg",
    "outputId": "091c3cb6-f170-404e-f3f0-48b34dd56c65"
   },
   "outputs": [],
   "source": [
    "function_f = rn.ResNet.ResNet18()\n",
    "function_f.to(device)"
   ]
  },
  {
   "cell_type": "code",
   "execution_count": null,
   "metadata": {
    "colab": {
     "base_uri": "https://localhost:8080/"
    },
    "executionInfo": {
     "elapsed": 21116,
     "status": "ok",
     "timestamp": 1602153690721,
     "user": {
      "displayName": "Dario Dematties Reyes",
      "photoUrl": "https://lh3.googleusercontent.com/a-/AOh14Ghbm_vK9SGiVgOHPAJKbjYBXYYIaiOlPb-OHTeErg=s64",
      "userId": "00584130990476158654"
     },
     "user_tz": 180
    },
    "id": "75v8M25s9uRr",
    "outputId": "4000586d-8840-46d4-a0e6-6019588045e6"
   },
   "outputs": [],
   "source": [
    "outputs1 = function_f(outputs1.float())\n",
    "outputs1.shape"
   ]
  },
  {
   "cell_type": "code",
   "execution_count": null,
   "metadata": {
    "colab": {
     "base_uri": "https://localhost:8080/"
    },
    "executionInfo": {
     "elapsed": 21106,
     "status": "ok",
     "timestamp": 1602153690722,
     "user": {
      "displayName": "Dario Dematties Reyes",
      "photoUrl": "https://lh3.googleusercontent.com/a-/AOh14Ghbm_vK9SGiVgOHPAJKbjYBXYYIaiOlPb-OHTeErg=s64",
      "userId": "00584130990476158654"
     },
     "user_tz": 180
    },
    "id": "qIz9qdcu9uR1",
    "outputId": "3fd5b2b2-65d6-4b0c-fd7c-dc629b076fdb"
   },
   "outputs": [],
   "source": [
    "outputs2 = function_f(outputs2.float())\n",
    "outputs2.shape"
   ]
  },
  {
   "cell_type": "markdown",
   "metadata": {
    "id": "u8DA9tHm9uSC"
   },
   "source": [
    "## Projections"
   ]
  },
  {
   "cell_type": "code",
   "execution_count": null,
   "metadata": {
    "executionInfo": {
     "elapsed": 627,
     "status": "ok",
     "timestamp": 1602155331782,
     "user": {
      "displayName": "Dario Dematties Reyes",
      "photoUrl": "https://lh3.googleusercontent.com/a-/AOh14Ghbm_vK9SGiVgOHPAJKbjYBXYYIaiOlPb-OHTeErg=s64",
      "userId": "00584130990476158654"
     },
     "user_tz": 180
    },
    "id": "ILwjTPJY9uSF"
   },
   "outputs": [],
   "source": [
    "sys.path.append(path + '/Colab Notebooks/Multimodal Active AI/SimCLR/MLP')\n",
    "import multilayerPerceptron as mlp"
   ]
  },
  {
   "cell_type": "code",
   "execution_count": null,
   "metadata": {
    "colab": {
     "base_uri": "https://localhost:8080/"
    },
    "executionInfo": {
     "elapsed": 874,
     "status": "ok",
     "timestamp": 1602155332739,
     "user": {
      "displayName": "Dario Dematties Reyes",
      "photoUrl": "https://lh3.googleusercontent.com/a-/AOh14Ghbm_vK9SGiVgOHPAJKbjYBXYYIaiOlPb-OHTeErg=s64",
      "userId": "00584130990476158654"
     },
     "user_tz": 180
    },
    "id": "N2WAz9Pd9uSR",
    "outputId": "3c8e409f-0022-4aed-dc3d-11eb711e6b88"
   },
   "outputs": [],
   "source": [
    "function_g = mlp.MLP(512*4*4, 1024, 128)\n",
    "function_g.to(device)"
   ]
  },
  {
   "cell_type": "code",
   "execution_count": null,
   "metadata": {
    "colab": {
     "base_uri": "https://localhost:8080/"
    },
    "executionInfo": {
     "elapsed": 21998,
     "status": "ok",
     "timestamp": 1602153691646,
     "user": {
      "displayName": "Dario Dematties Reyes",
      "photoUrl": "https://lh3.googleusercontent.com/a-/AOh14Ghbm_vK9SGiVgOHPAJKbjYBXYYIaiOlPb-OHTeErg=s64",
      "userId": "00584130990476158654"
     },
     "user_tz": 180
    },
    "id": "aenQ5hs49uSc",
    "outputId": "591e3887-9d93-42ee-f64c-fe88ec735793"
   },
   "outputs": [],
   "source": [
    "outputs1 = function_g(outputs1)\n",
    "outputs1.shape"
   ]
  },
  {
   "cell_type": "code",
   "execution_count": null,
   "metadata": {
    "colab": {
     "base_uri": "https://localhost:8080/"
    },
    "executionInfo": {
     "elapsed": 21989,
     "status": "ok",
     "timestamp": 1602153691647,
     "user": {
      "displayName": "Dario Dematties Reyes",
      "photoUrl": "https://lh3.googleusercontent.com/a-/AOh14Ghbm_vK9SGiVgOHPAJKbjYBXYYIaiOlPb-OHTeErg=s64",
      "userId": "00584130990476158654"
     },
     "user_tz": 180
    },
    "id": "axQWX_Y09uSm",
    "outputId": "93d14fce-8f6d-4971-ef8d-42e00cd4f19a"
   },
   "outputs": [],
   "source": [
    "outputs2 = function_g(outputs2)\n",
    "outputs2.shape"
   ]
  },
  {
   "cell_type": "markdown",
   "metadata": {
    "id": "SbGouTt09uSz"
   },
   "source": [
    "## SimCLR"
   ]
  },
  {
   "cell_type": "code",
   "execution_count": null,
   "metadata": {
    "executionInfo": {
     "elapsed": 757,
     "status": "ok",
     "timestamp": 1602155338476,
     "user": {
      "displayName": "Dario Dematties Reyes",
      "photoUrl": "https://lh3.googleusercontent.com/a-/AOh14Ghbm_vK9SGiVgOHPAJKbjYBXYYIaiOlPb-OHTeErg=s64",
      "userId": "00584130990476158654"
     },
     "user_tz": 180
    },
    "id": "HC1d4dlU9uTA"
   },
   "outputs": [],
   "source": [
    "sys.path.append(path + '/Colab Notebooks/Multimodal Active AI/SimCLR')\n",
    "import SimCLR"
   ]
  },
  {
   "cell_type": "markdown",
   "metadata": {
    "id": "ABOEMjj9lU2A"
   },
   "source": [
    "Create COCOReader pipeline"
   ]
  },
  {
   "cell_type": "code",
   "execution_count": null,
   "metadata": {
    "colab": {
     "base_uri": "https://localhost:8080/"
    },
    "executionInfo": {
     "elapsed": 2776,
     "status": "ok",
     "timestamp": 1602155341741,
     "user": {
      "displayName": "Dario Dematties Reyes",
      "photoUrl": "https://lh3.googleusercontent.com/a-/AOh14Ghbm_vK9SGiVgOHPAJKbjYBXYYIaiOlPb-OHTeErg=s64",
      "userId": "00584130990476158654"
     },
     "user_tz": 180
    },
    "id": "xyuMdzf3e4U7",
    "outputId": "64879fe5-9068-4963-efe1-6a990153b886"
   },
   "outputs": [],
   "source": [
    "num_gpus = 1\n",
    "batch_size = 256\n",
    "start = time()\n",
    "pipes = [NDP.COCOReader(batch_size=batch_size, num_threads=2, device_id = device_id, num_gpus = num_gpus)  for device_id in range(num_gpus)]\n",
    "for pipe in pipes:\n",
    "    pipe.build()\n",
    "total_time = time() - start\n",
    "print(\"Computation graph built and dataset loaded in %f seconds.\" % total_time)"
   ]
  },
  {
   "cell_type": "code",
   "execution_count": null,
   "metadata": {
    "colab": {
     "base_uri": "https://localhost:8080/"
    },
    "executionInfo": {
     "elapsed": 2175,
     "status": "ok",
     "timestamp": 1602155341744,
     "user": {
      "displayName": "Dario Dematties Reyes",
      "photoUrl": "https://lh3.googleusercontent.com/a-/AOh14Ghbm_vK9SGiVgOHPAJKbjYBXYYIaiOlPb-OHTeErg=s64",
      "userId": "00584130990476158654"
     },
     "user_tz": 180
    },
    "id": "qW-otf8P9uTZ",
    "outputId": "b13355f9-e61b-4e6e-bfcd-6a3b359a5338"
   },
   "outputs": [],
   "source": [
    "temperature = 0.05\n",
    "img_size = (30,30)\n",
    "model = SimCLR.SimCLR_Module(temperature, function_f, function_g, batch_size, img_size, device)\n",
    "model.to(device)"
   ]
  },
  {
   "cell_type": "markdown",
   "metadata": {
    "id": "9_1GsUu0ggrP"
   },
   "source": [
    "Bring image batch using DALI pipe"
   ]
  },
  {
   "cell_type": "code",
   "execution_count": null,
   "metadata": {
    "executionInfo": {
     "elapsed": 1673,
     "status": "ok",
     "timestamp": 1602155344465,
     "user": {
      "displayName": "Dario Dematties Reyes",
      "photoUrl": "https://lh3.googleusercontent.com/a-/AOh14Ghbm_vK9SGiVgOHPAJKbjYBXYYIaiOlPb-OHTeErg=s64",
      "userId": "00584130990476158654"
     },
     "user_tz": 180
    },
    "id": "J3lDyQJ-gdCq"
   },
   "outputs": [],
   "source": [
    "pipe_out = [pipe.run() for pipe in pipes]\n",
    "\n",
    "images_gpu = pipe_out[0][0]\n",
    "\n",
    "images_cpu = pipe_out[0][0].as_cpu()\n",
    "bboxes_cpu = pipe_out[0][1]\n",
    "labels_cpu = pipe_out[0][2]"
   ]
  },
  {
   "cell_type": "markdown",
   "metadata": {
    "id": "YOnHh0uWlp8m"
   },
   "source": [
    "Create the Foveated processor pipeline"
   ]
  },
  {
   "cell_type": "code",
   "execution_count": null,
   "metadata": {
    "colab": {
     "base_uri": "https://localhost:8080/"
    },
    "executionInfo": {
     "elapsed": 969,
     "status": "ok",
     "timestamp": 1602155345634,
     "user": {
      "displayName": "Dario Dematties Reyes",
      "photoUrl": "https://lh3.googleusercontent.com/a-/AOh14Ghbm_vK9SGiVgOHPAJKbjYBXYYIaiOlPb-OHTeErg=s64",
      "userId": "00584130990476158654"
     },
     "user_tz": 180
    },
    "id": "wgXlMzZElNwe",
    "outputId": "c485f5f6-f290-4ff6-da3d-498f4df12ae3"
   },
   "outputs": [],
   "source": [
    "img_size = (30,30)\n",
    "NDP.fixation_pos_x = torch.rand((batch_size,1))\n",
    "NDP.fixation_pos_y = torch.rand((batch_size,1))\n",
    "NDP.fixation_angle = (torch.rand((batch_size,1))-0.5)*60\n",
    "\n",
    "#NDP.fixation_pos_x = torch.repeat_interleave(torch.Tensor([0]), batch_size).view(-1,1)\n",
    "#NDP.fixation_pos_y = torch.repeat_interleave(torch.Tensor([0]), batch_size).view(-1,1)\n",
    "#NDP.fixation_angle = torch.repeat_interleave(torch.Tensor([30]), batch_size).view(-1,1)\n",
    "\n",
    "images = NDP.ImageCollector()\n",
    "fixation = NDP.FixationCommand(batch_size)\n",
    "\n",
    "images.data = images_gpu\n",
    "\n",
    "start = time()\n",
    "pipes1 = [NDP.FoveatedRetinalProcessor(batch_size=batch_size, num_threads=2, device_id=device_id, num_gpus=num_gpus, fixation=fixation, images=images)  for device_id in range(num_gpus)]\n",
    "for pipe1 in pipes1:\n",
    "  pipe1.build()\n",
    "\n",
    "total_time = time() - start\n",
    "print(\"Computation graph built and dataset loaded in %f seconds.\" % total_time)"
   ]
  },
  {
   "cell_type": "markdown",
   "metadata": {
    "id": "fmLb2wzel-wa"
   },
   "source": [
    "Run the Foveated processor once"
   ]
  },
  {
   "cell_type": "code",
   "execution_count": null,
   "metadata": {
    "colab": {
     "base_uri": "https://localhost:8080/"
    },
    "executionInfo": {
     "elapsed": 711,
     "status": "ok",
     "timestamp": 1602155347711,
     "user": {
      "displayName": "Dario Dematties Reyes",
      "photoUrl": "https://lh3.googleusercontent.com/a-/AOh14Ghbm_vK9SGiVgOHPAJKbjYBXYYIaiOlPb-OHTeErg=s64",
      "userId": "00584130990476158654"
     },
     "user_tz": 180
    },
    "id": "qlbN8k27mCOz",
    "outputId": "fed6a77f-66c9-43f4-ffcb-6c224ea00d04"
   },
   "outputs": [],
   "source": [
    "NDP.fixation_pos_x = torch.rand((batch_size,1))\n",
    "NDP.fixation_pos_y = torch.rand((batch_size,1))\n",
    "NDP.fixation_angle = (torch.rand((batch_size,1))-0.5)*60\n",
    "\n",
    "#NDP.fixation_pos_x = torch.repeat_interleave(torch.Tensor([0.5]), batch_size).view(-1,1)\n",
    "#NDP.fixation_pos_y = torch.repeat_interleave(torch.Tensor([0.5]), batch_size).view(-1,1)\n",
    "#NDP.fixation_angle = torch.repeat_interleave(torch.Tensor([30]), batch_size).view(-1,1)\n",
    "\n",
    "start = time()\n",
    "pipe_out1 = NDP.pytorch_wrapper(pipes1)\n",
    "#pipe_out1 = [pipe1.run() for pipe1 in pipes1]\n",
    "total_time = time() - start\n",
    "print(\"Computation graph run in %f seconds.\" % total_time)\n",
    "\n",
    "print('Does pipe_out1 live in GPU: ', pipe_out1[0][0].is_cuda)"
   ]
  },
  {
   "cell_type": "code",
   "execution_count": null,
   "metadata": {
    "colab": {
     "base_uri": "https://localhost:8080/"
    },
    "executionInfo": {
     "elapsed": 519,
     "status": "ok",
     "timestamp": 1602155348843,
     "user": {
      "displayName": "Dario Dematties Reyes",
      "photoUrl": "https://lh3.googleusercontent.com/a-/AOh14Ghbm_vK9SGiVgOHPAJKbjYBXYYIaiOlPb-OHTeErg=s64",
      "userId": "00584130990476158654"
     },
     "user_tz": 180
    },
    "id": "qL0gbBVk9uTk",
    "outputId": "350f2a1e-66f2-49dd-f415-bf704564dfd2"
   },
   "outputs": [],
   "source": [
    "outputs1 = model(pipe_out1[0][5:])\n",
    "outputs1.shape"
   ]
  },
  {
   "cell_type": "code",
   "execution_count": null,
   "metadata": {
    "colab": {
     "base_uri": "https://localhost:8080/"
    },
    "executionInfo": {
     "elapsed": 711,
     "status": "ok",
     "timestamp": 1602155350291,
     "user": {
      "displayName": "Dario Dematties Reyes",
      "photoUrl": "https://lh3.googleusercontent.com/a-/AOh14Ghbm_vK9SGiVgOHPAJKbjYBXYYIaiOlPb-OHTeErg=s64",
      "userId": "00584130990476158654"
     },
     "user_tz": 180
    },
    "id": "eawXzqY3pRPj",
    "outputId": "375e9856-1763-4f1b-d5ec-68c63b34c6fc"
   },
   "outputs": [],
   "source": [
    "NDP.fixation_pos_x = torch.rand((batch_size,1))\n",
    "NDP.fixation_pos_y = torch.rand((batch_size,1))\n",
    "NDP.fixation_angle = (torch.rand((batch_size,1))-0.5)*60\n",
    "\n",
    "#NDP.fixation_pos_x = torch.repeat_interleave(torch.Tensor([0.5]), batch_size).view(-1,1)\n",
    "#NDP.fixation_pos_y = torch.repeat_interleave(torch.Tensor([0.5]), batch_size).view(-1,1)\n",
    "#NDP.fixation_angle = torch.repeat_interleave(torch.Tensor([30]), batch_size).view(-1,1)\n",
    "\n",
    "start = time()\n",
    "pipe_out2 = NDP.pytorch_wrapper(pipes1)\n",
    "#pipe_out1 = [pipe1.run() for pipe1 in pipes1]\n",
    "total_time = time() - start\n",
    "print(\"Computation graph run in %f seconds.\" % total_time)\n",
    "\n",
    "print('Does pipe_out1 live in GPU: ', pipe_out2[0][0].is_cuda)"
   ]
  },
  {
   "cell_type": "code",
   "execution_count": null,
   "metadata": {
    "colab": {
     "base_uri": "https://localhost:8080/"
    },
    "executionInfo": {
     "elapsed": 890,
     "status": "ok",
     "timestamp": 1602155353220,
     "user": {
      "displayName": "Dario Dematties Reyes",
      "photoUrl": "https://lh3.googleusercontent.com/a-/AOh14Ghbm_vK9SGiVgOHPAJKbjYBXYYIaiOlPb-OHTeErg=s64",
      "userId": "00584130990476158654"
     },
     "user_tz": 180
    },
    "id": "6y7mIiYl9uTt",
    "outputId": "67a21e27-87a6-4d68-b97f-8de6e88b59fb"
   },
   "outputs": [],
   "source": [
    "outputs2 = model(pipe_out2[0][5:])\n",
    "outputs2.shape"
   ]
  },
  {
   "cell_type": "code",
   "execution_count": null,
   "metadata": {
    "executionInfo": {
     "elapsed": 929,
     "status": "ok",
     "timestamp": 1602155355538,
     "user": {
      "displayName": "Dario Dematties Reyes",
      "photoUrl": "https://lh3.googleusercontent.com/a-/AOh14Ghbm_vK9SGiVgOHPAJKbjYBXYYIaiOlPb-OHTeErg=s64",
      "userId": "00584130990476158654"
     },
     "user_tz": 180
    },
    "id": "WW7WMSSd9uT5"
   },
   "outputs": [],
   "source": [
    "loss = model.compute_loss(outputs1, outputs2)"
   ]
  },
  {
   "cell_type": "code",
   "execution_count": null,
   "metadata": {
    "colab": {
     "base_uri": "https://localhost:8080/"
    },
    "executionInfo": {
     "elapsed": 716,
     "status": "ok",
     "timestamp": 1602155357158,
     "user": {
      "displayName": "Dario Dematties Reyes",
      "photoUrl": "https://lh3.googleusercontent.com/a-/AOh14Ghbm_vK9SGiVgOHPAJKbjYBXYYIaiOlPb-OHTeErg=s64",
      "userId": "00584130990476158654"
     },
     "user_tz": 180
    },
    "id": "gy27Jfpt9uUE",
    "outputId": "c8f5b53f-b2d1-46db-d066-4a2370b616c2"
   },
   "outputs": [],
   "source": [
    "loss.shape"
   ]
  },
  {
   "cell_type": "code",
   "execution_count": null,
   "metadata": {
    "colab": {
     "base_uri": "https://localhost:8080/"
    },
    "executionInfo": {
     "elapsed": 729,
     "status": "ok",
     "timestamp": 1602155358687,
     "user": {
      "displayName": "Dario Dematties Reyes",
      "photoUrl": "https://lh3.googleusercontent.com/a-/AOh14Ghbm_vK9SGiVgOHPAJKbjYBXYYIaiOlPb-OHTeErg=s64",
      "userId": "00584130990476158654"
     },
     "user_tz": 180
    },
    "id": "XIGJkler9uUO",
    "outputId": "12a51c5c-ea08-4b00-d985-89078b8f8843"
   },
   "outputs": [],
   "source": [
    "loss"
   ]
  },
  {
   "cell_type": "markdown",
   "metadata": {
    "id": "MOjfbrtC9uUX"
   },
   "source": [
    "### Define the Optimizer"
   ]
  },
  {
   "cell_type": "code",
   "execution_count": null,
   "metadata": {
    "executionInfo": {
     "elapsed": 995,
     "status": "ok",
     "timestamp": 1602155361421,
     "user": {
      "displayName": "Dario Dematties Reyes",
      "photoUrl": "https://lh3.googleusercontent.com/a-/AOh14Ghbm_vK9SGiVgOHPAJKbjYBXYYIaiOlPb-OHTeErg=s64",
      "userId": "00584130990476158654"
     },
     "user_tz": 180
    },
    "id": "L_iG8VPq9uUa"
   },
   "outputs": [],
   "source": [
    "import torch.optim as optim\n",
    "\n",
    "optimizer = optim.SGD(model.parameters(), lr=0.001, momentum=0.9)\n",
    "lr_scheduler = torch.optim.lr_scheduler.StepLR(optimizer, 100, 0.5)"
   ]
  },
  {
   "cell_type": "markdown",
   "metadata": {
    "id": "jf48-kDG9uUk"
   },
   "source": [
    "### Train the Network\n",
    "\n",
    "First configure the initial checkpoint to start the training process"
   ]
  },
  {
   "cell_type": "code",
   "execution_count": null,
   "metadata": {
    "colab": {
     "base_uri": "https://localhost:8080/"
    },
    "executionInfo": {
     "elapsed": 708,
     "status": "ok",
     "timestamp": 1602155364015,
     "user": {
      "displayName": "Dario Dematties Reyes",
      "photoUrl": "https://lh3.googleusercontent.com/a-/AOh14Ghbm_vK9SGiVgOHPAJKbjYBXYYIaiOlPb-OHTeErg=s64",
      "userId": "00584130990476158654"
     },
     "user_tz": 180
    },
    "id": "EX4UvJw-9uUm",
    "outputId": "84b63229-78d3-473d-c0a8-64fa0aa7b21a"
   },
   "outputs": [],
   "source": [
    "import os\n",
    "import torch.nn.functional as F\n",
    "\n",
    "PATH = path + '/Colab Notebooks/Multimodal Active AI/SimCLR/simclr_net.pth'\n",
    "if os.path.isfile(PATH):\n",
    "  print('Checkpoint already stablished')\n",
    "  if device == 'cpu':\n",
    "    checkpoint = torch.load(PATH, map_location=torch.device('cpu'))\n",
    "  else:\n",
    "    checkpoint = torch.load(PATH, map_location=torch.device('cuda'))\n",
    "\n",
    "  checkpoint = torch.load(PATH)\n",
    "  model.load_state_dict(checkpoint['model_state_dict'])\n",
    "  optimizer.load_state_dict(checkpoint['optimizer_state_dict'])\n",
    "  lr_scheduler.load_state_dict(checkpoint['scheduler_state_dict'])\n",
    "  start = checkpoint['epoch']\n",
    "  loss = checkpoint['loss']\n",
    "else:\n",
    "  print('Without checkpoint, then stablish initial checkpoint')\n",
    "  start = 0"
   ]
  },
  {
   "cell_type": "code",
   "execution_count": null,
   "metadata": {
    "colab": {
     "base_uri": "https://localhost:8080/"
    },
    "executionInfo": {
     "elapsed": 864,
     "status": "ok",
     "timestamp": 1602155365578,
     "user": {
      "displayName": "Dario Dematties Reyes",
      "photoUrl": "https://lh3.googleusercontent.com/a-/AOh14Ghbm_vK9SGiVgOHPAJKbjYBXYYIaiOlPb-OHTeErg=s64",
      "userId": "00584130990476158654"
     },
     "user_tz": 180
    },
    "id": "QMHxp29a9uU7",
    "outputId": "6da189a8-2bad-4dd0-c9c6-99c09276ed35"
   },
   "outputs": [],
   "source": [
    "print(device)"
   ]
  },
  {
   "cell_type": "code",
   "execution_count": null,
   "metadata": {
    "executionInfo": {
     "elapsed": 709,
     "status": "ok",
     "timestamp": 1602155366905,
     "user": {
      "displayName": "Dario Dematties Reyes",
      "photoUrl": "https://lh3.googleusercontent.com/a-/AOh14Ghbm_vK9SGiVgOHPAJKbjYBXYYIaiOlPb-OHTeErg=s64",
      "userId": "00584130990476158654"
     },
     "user_tz": 180
    },
    "id": "e87rAR4h9uVE"
   },
   "outputs": [],
   "source": [
    "number_of_fixations = 100"
   ]
  },
  {
   "cell_type": "code",
   "execution_count": null,
   "metadata": {
    "colab": {
     "base_uri": "https://localhost:8080/",
     "height": 1000
    },
    "executionInfo": {
     "elapsed": 9736229,
     "status": "error",
     "timestamp": 1602165103780,
     "user": {
      "displayName": "Dario Dematties Reyes",
      "photoUrl": "https://lh3.googleusercontent.com/a-/AOh14Ghbm_vK9SGiVgOHPAJKbjYBXYYIaiOlPb-OHTeErg=s64",
      "userId": "00584130990476158654"
     },
     "user_tz": 180
    },
    "id": "t4-VYL9K9uVL",
    "outputId": "f7fa29f9-3c9d-4bca-ccde-4c88ffa08c3b"
   },
   "outputs": [],
   "source": [
    "NDP.fixation_pos_x = torch.rand((batch_size,1))\n",
    "NDP.fixation_pos_y = torch.rand((batch_size,1))\n",
    "NDP.fixation_angle = (torch.rand((batch_size,1))-0.5)*60\n",
    "#NDP.fixation_pos_x = torch.repeat_interleave(torch.Tensor([0.5]), batch_size).view(-1,1)\n",
    "#NDP.fixation_pos_y = torch.repeat_interleave(torch.Tensor([0.5]), batch_size).view(-1,1)\n",
    "#NDP.fixation_angle = torch.repeat_interleave(torch.Tensor([30]), batch_size).view(-1,1)\n",
    "pipe_out1 = NDP.pytorch_wrapper(pipes1)\n",
    "outputs1 = model(pipe_out1[0][5:])\n",
    "\n",
    "print('Start Training')\n",
    "\n",
    "if start == 0:\n",
    "  print('Since start is {}, we start the training using a new model from scratch.' .format(start))\n",
    "else:\n",
    "  print('Since start is {}, we load a model from checkpoint number {}.' .format(start, start))\n",
    "\n",
    "for epoch in range(start,5): # loop over the dataset multiple times\n",
    "    \n",
    "    #CCD.reset_avail_images()\n",
    "    running_loss = 0.0\n",
    "    i = 0\n",
    "    while i < 1000:\n",
    "        # get the noisy inputs and the labels\n",
    "        #image_batch1 = CCD.get_image_batch()\n",
    "        \n",
    "        # zero the parameter gradients\n",
    "        optimizer.zero_grad()\n",
    "        \n",
    "        # forward + backward + optimize\n",
    "        #fixation_centers, rotation_angles = generate_fixation_batch(batch_size)\n",
    "        #outputs1 = model(image_batch, fixation_centers, rotation_angles)\n",
    "\n",
    "        for j in range(number_of_fixations):\n",
    "            optimizer.zero_grad()\n",
    "\n",
    "            #fixation_centers, rotation_angles = generate_fixation_batch(batch_size)\n",
    "            #NDP.fixation_pos_x = torch.rand((batch_size,1))\n",
    "            #NDP.fixation_pos_y = torch.rand((batch_size,1))\n",
    "            #NDP.fixation_angle = (torch.rand((batch_size,1))-0.5)*60\n",
    "            NDP.fixation_pos_x = torch.repeat_interleave(torch.Tensor([0.5]), batch_size).view(-1,1)\n",
    "            NDP.fixation_pos_y = torch.repeat_interleave(torch.Tensor([0.5]), batch_size).view(-1,1)\n",
    "            NDP.fixation_angle = torch.repeat_interleave(torch.Tensor([30]), batch_size).view(-1,1)\n",
    "            pipe_out2 = NDP.pytorch_wrapper(pipes1)\n",
    "            outputs2 = model(pipe_out2[0][5:])\n",
    "            \n",
    "            # Compute Huber loss\n",
    "            loss = model.compute_loss(outputs1.detach(), outputs2)\n",
    "            \n",
    "            loss.backward()\n",
    "            optimizer.step()\n",
    "            \n",
    "            #outputs1=outputs2\n",
    "            \n",
    "        # print statistics\n",
    "        print(loss.item())\n",
    "        running_loss += loss.item()\n",
    "        i += 1\n",
    "    \n",
    "    print('[%d, %5d] loss: %.3f' %\n",
    "                  (epoch + 1, i + 1, running_loss / (i+1)))\n",
    "    lr_scheduler.step()\n",
    "    \n",
    "    if ((epoch+1) % 1 == 0):\n",
    "      print('Checkpoint ...')\n",
    "      print('Saving the complete model state ...')\n",
    "      PATH = path + '/Colab Notebooks/Multimodal Active AI/SimCLR/simclr_net.pth'\n",
    "      torch.save({\n",
    "          'epoch': epoch+1,\n",
    "          'model_state_dict': model.state_dict(),\n",
    "          'optimizer_state_dict': optimizer.state_dict(),\n",
    "          'scheduler_state_dict': lr_scheduler.state_dict(),\n",
    "          'loss': loss\n",
    "          }, PATH)\n",
    "      print('Done')\n",
    "      \n",
    "            \n",
    "print('Training Finished')"
   ]
  },
  {
   "cell_type": "code",
   "execution_count": null,
   "metadata": {
    "id": "AhucrSFY9uVW"
   },
   "outputs": [],
   "source": []
  }
 ],
 "metadata": {
  "accelerator": "GPU",
  "colab": {
   "name": "Contrastive Learning.ipynb",
   "provenance": []
  },
  "kernelspec": {
   "display_name": "Python 3",
   "language": "python",
   "name": "python3"
  },
  "language_info": {
   "codemirror_mode": {
    "name": "ipython",
    "version": 3
   },
   "file_extension": ".py",
   "mimetype": "text/x-python",
   "name": "python",
   "nbconvert_exporter": "python",
   "pygments_lexer": "ipython3",
   "version": "3.8.5"
  }
 },
 "nbformat": 4,
 "nbformat_minor": 1
}
