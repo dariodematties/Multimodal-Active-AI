{
 "cells": [
  {
   "cell_type": "markdown",
   "metadata": {
    "id": "XPmInYyhzGVO"
   },
   "source": [
    "# COCO Reader with augmentations"
   ]
  },
  {
   "cell_type": "markdown",
   "metadata": {
    "id": "7bFjGQwAIrnY"
   },
   "source": [
    "## Let's first manage COCO in its standard way"
   ]
  },
  {
   "cell_type": "code",
   "execution_count": null,
   "metadata": {
    "executionInfo": {
     "elapsed": 4403,
     "status": "ok",
     "timestamp": 1601825781822,
     "user": {
      "displayName": "Dario Dematties Reyes",
      "photoUrl": "https://lh3.googleusercontent.com/a-/AOh14Ghbm_vK9SGiVgOHPAJKbjYBXYYIaiOlPb-OHTeErg=s64",
      "userId": "00584130990476158654"
     },
     "user_tz": 180
    },
    "id": "YNjV9dPc04Oe"
   },
   "outputs": [],
   "source": [
    "import sys\n",
    "import random\n",
    "import numpy as np\n",
    "import torch\n",
    "import torchvision.datasets as dset\n",
    "import torchvision.transforms as transforms\n",
    "import matplotlib.pyplot as plt\n",
    "import matplotlib.patches as patches"
   ]
  },
  {
   "cell_type": "code",
   "execution_count": null,
   "metadata": {
    "colab": {
     "base_uri": "https://localhost:8080/",
     "height": 34
    },
    "executionInfo": {
     "elapsed": 29551,
     "status": "ok",
     "timestamp": 1601825807007,
     "user": {
      "displayName": "Dario Dematties Reyes",
      "photoUrl": "https://lh3.googleusercontent.com/a-/AOh14Ghbm_vK9SGiVgOHPAJKbjYBXYYIaiOlPb-OHTeErg=s64",
      "userId": "00584130990476158654"
     },
     "user_tz": 180
    },
    "id": "dHg-fLee1D2M",
    "outputId": "ee2b5cda-ae59-4d11-db97-e176507d8a32"
   },
   "outputs": [],
   "source": [
    "from google.colab import drive\n",
    "drive.mount('/content/drive')"
   ]
  },
  {
   "cell_type": "markdown",
   "metadata": {
    "id": "VUrJtuAf1tB7"
   },
   "source": [
    "Check the device available"
   ]
  },
  {
   "cell_type": "code",
   "execution_count": null,
   "metadata": {
    "colab": {
     "base_uri": "https://localhost:8080/",
     "height": 51
    },
    "executionInfo": {
     "elapsed": 29522,
     "status": "ok",
     "timestamp": 1601825807010,
     "user": {
      "displayName": "Dario Dematties Reyes",
      "photoUrl": "https://lh3.googleusercontent.com/a-/AOh14Ghbm_vK9SGiVgOHPAJKbjYBXYYIaiOlPb-OHTeErg=s64",
      "userId": "00584130990476158654"
     },
     "user_tz": 180
    },
    "id": "jUguQKzl1hrg",
    "outputId": "ee7a917b-6cbd-4536-eaed-07c1ef0c9efc"
   },
   "outputs": [],
   "source": [
    "device = torch.device('cuda' if torch.cuda.is_available() else 'cpu')\n",
    "print('Using device:', device)\n",
    "print()"
   ]
  },
  {
   "cell_type": "markdown",
   "metadata": {
    "id": "hhVukG232P-8"
   },
   "source": [
    "## This is for image Captioning section from MSCOCO"
   ]
  },
  {
   "cell_type": "code",
   "execution_count": null,
   "metadata": {
    "colab": {
     "base_uri": "https://localhost:8080/",
     "height": 85
    },
    "executionInfo": {
     "elapsed": 2573,
     "status": "ok",
     "timestamp": 1601825812645,
     "user": {
      "displayName": "Dario Dematties Reyes",
      "photoUrl": "https://lh3.googleusercontent.com/a-/AOh14Ghbm_vK9SGiVgOHPAJKbjYBXYYIaiOlPb-OHTeErg=s64",
      "userId": "00584130990476158654"
     },
     "user_tz": 180
    },
    "id": "mR1-I9kA1-Fj",
    "outputId": "38913a2f-e7d1-44f7-8d4c-18dc1bd31f9e"
   },
   "outputs": [],
   "source": [
    "# This is the path where I have the dataset\n",
    "path = '/content/drive/My Drive'\n",
    "\n",
    "cap = dset.CocoCaptions(root= path + '/MSCOCO/cocoapi/images/val2014',\n",
    "                        annFile= path + '/MSCOCO/cocoapi/annotations/captions_val2014.json',\n",
    "                        transform=transforms.ToTensor())"
   ]
  },
  {
   "cell_type": "markdown",
   "metadata": {
    "id": "cehnV1Qv2orX"
   },
   "source": [
    "### Show image and its caption"
   ]
  },
  {
   "cell_type": "code",
   "execution_count": null,
   "metadata": {
    "colab": {
     "base_uri": "https://localhost:8080/",
     "height": 374
    },
    "executionInfo": {
     "elapsed": 60768,
     "status": "error",
     "timestamp": 1601826001939,
     "user": {
      "displayName": "Dario Dematties Reyes",
      "photoUrl": "https://lh3.googleusercontent.com/a-/AOh14Ghbm_vK9SGiVgOHPAJKbjYBXYYIaiOlPb-OHTeErg=s64",
      "userId": "00584130990476158654"
     },
     "user_tz": 180
    },
    "id": "DZlmGlrA3KQj",
    "outputId": "9ecbee44-0197-4862-d770-0c97e5eb3734"
   },
   "outputs": [],
   "source": [
    "image_number = 165\n",
    "print('Number of samples: ', len(cap))\n",
    "image, caption = cap[image_number]\n",
    "image.shape"
   ]
  },
  {
   "cell_type": "code",
   "execution_count": null,
   "metadata": {
    "executionInfo": {
     "elapsed": 58755,
     "status": "aborted",
     "timestamp": 1601825874999,
     "user": {
      "displayName": "Dario Dematties Reyes",
      "photoUrl": "https://lh3.googleusercontent.com/a-/AOh14Ghbm_vK9SGiVgOHPAJKbjYBXYYIaiOlPb-OHTeErg=s64",
      "userId": "00584130990476158654"
     },
     "user_tz": 180
    },
    "id": "sE7wfXaW3b-q"
   },
   "outputs": [],
   "source": [
    "plt.imshow(image.permute(1, 2, 0))\n",
    "plt.title(caption[0])"
   ]
  },
  {
   "cell_type": "markdown",
   "metadata": {
    "id": "Efnx8SfLNCaY"
   },
   "source": [
    "## This is for image Detection section from MSCOCO"
   ]
  },
  {
   "cell_type": "code",
   "execution_count": null,
   "metadata": {
    "colab": {
     "base_uri": "https://localhost:8080/",
     "height": 85
    },
    "executionInfo": {
     "elapsed": 15868,
     "status": "ok",
     "timestamp": 1601665727578,
     "user": {
      "displayName": "Dario Dematties Reyes",
      "photoUrl": "https://lh3.googleusercontent.com/a-/AOh14Ghbm_vK9SGiVgOHPAJKbjYBXYYIaiOlPb-OHTeErg=s64",
      "userId": "00584130990476158654"
     },
     "user_tz": 180
    },
    "id": "GFT9VVJ-4zqK",
    "outputId": "7cef1891-6a50-488c-b04c-acbd78579013"
   },
   "outputs": [],
   "source": [
    "det = dset.CocoDetection(root= path + '/MSCOCO/cocoapi/images/val2014',\n",
    "                          annFile= path + '/MSCOCO/cocoapi/annotations/instances_val2014.json',\n",
    "                          transform=transforms.ToTensor())"
   ]
  },
  {
   "cell_type": "markdown",
   "metadata": {
    "id": "e5DyoF3gOOIw"
   },
   "source": [
    "### Show image and its bbox"
   ]
  },
  {
   "cell_type": "code",
   "execution_count": null,
   "metadata": {
    "colab": {
     "base_uri": "https://localhost:8080/",
     "height": 51
    },
    "executionInfo": {
     "elapsed": 15858,
     "status": "ok",
     "timestamp": 1601665727581,
     "user": {
      "displayName": "Dario Dematties Reyes",
      "photoUrl": "https://lh3.googleusercontent.com/a-/AOh14Ghbm_vK9SGiVgOHPAJKbjYBXYYIaiOlPb-OHTeErg=s64",
      "userId": "00584130990476158654"
     },
     "user_tz": 180
    },
    "id": "g9fdb7eoNZsu",
    "outputId": "70cbf695-6ef3-4e7b-c8aa-5067e44001f4"
   },
   "outputs": [],
   "source": [
    "print('Number of samples: ', len(det))\n",
    "image, target = det[image_number] # load 4th sample\n",
    "image.shape"
   ]
  },
  {
   "cell_type": "code",
   "execution_count": null,
   "metadata": {
    "colab": {
     "base_uri": "https://localhost:8080/",
     "height": 34
    },
    "executionInfo": {
     "elapsed": 15848,
     "status": "ok",
     "timestamp": 1601665727583,
     "user": {
      "displayName": "Dario Dematties Reyes",
      "photoUrl": "https://lh3.googleusercontent.com/a-/AOh14Ghbm_vK9SGiVgOHPAJKbjYBXYYIaiOlPb-OHTeErg=s64",
      "userId": "00584130990476158654"
     },
     "user_tz": 180
    },
    "id": "0xpvi1Tn5Wvw",
    "outputId": "7f206d34-495b-43fd-e018-c7cadcaa99a3"
   },
   "outputs": [],
   "source": [
    "len(target)"
   ]
  },
  {
   "cell_type": "code",
   "execution_count": null,
   "metadata": {
    "colab": {
     "base_uri": "https://localhost:8080/",
     "height": 34
    },
    "executionInfo": {
     "elapsed": 15835,
     "status": "ok",
     "timestamp": 1601665727585,
     "user": {
      "displayName": "Dario Dematties Reyes",
      "photoUrl": "https://lh3.googleusercontent.com/a-/AOh14Ghbm_vK9SGiVgOHPAJKbjYBXYYIaiOlPb-OHTeErg=s64",
      "userId": "00584130990476158654"
     },
     "user_tz": 180
    },
    "id": "yy78kdtXOcuF",
    "outputId": "9edbd48d-5df5-41e4-c72f-cffba15ee637"
   },
   "outputs": [],
   "source": [
    "element = 2\n",
    "target[element].keys()"
   ]
  },
  {
   "cell_type": "code",
   "execution_count": null,
   "metadata": {
    "colab": {
     "base_uri": "https://localhost:8080/",
     "height": 258
    },
    "executionInfo": {
     "elapsed": 15822,
     "status": "ok",
     "timestamp": 1601665727586,
     "user": {
      "displayName": "Dario Dematties Reyes",
      "photoUrl": "https://lh3.googleusercontent.com/a-/AOh14Ghbm_vK9SGiVgOHPAJKbjYBXYYIaiOlPb-OHTeErg=s64",
      "userId": "00584130990476158654"
     },
     "user_tz": 180
    },
    "id": "ts2-8QzyOdBq",
    "outputId": "448f892d-f21b-4ec4-c0d9-a654279857ee"
   },
   "outputs": [],
   "source": [
    "print('Element: {}\\n\\ncategory_id: {}\\n\\nid: {}\\n\\niscrowd: {}\\n\\nsegmentation: {}\\n\\nimage_id: {}\\n\\nbbox: {}'\\\n",
    "      .format(element,target[element]['category_id'],target[element]['id'],target[element]['iscrowd'],target[element]['segmentation'], target[element]['image_id'], target[element]['bbox']))"
   ]
  },
  {
   "cell_type": "code",
   "execution_count": null,
   "metadata": {
    "colab": {
     "base_uri": "https://localhost:8080/",
     "height": 292
    },
    "executionInfo": {
     "elapsed": 15810,
     "status": "ok",
     "timestamp": 1601665727588,
     "user": {
      "displayName": "Dario Dematties Reyes",
      "photoUrl": "https://lh3.googleusercontent.com/a-/AOh14Ghbm_vK9SGiVgOHPAJKbjYBXYYIaiOlPb-OHTeErg=s64",
      "userId": "00584130990476158654"
     },
     "user_tz": 180
    },
    "id": "HXoRLUNlOx3B",
    "outputId": "4497e768-7bb9-49a7-a6b1-d0e32b513b02"
   },
   "outputs": [],
   "source": [
    "bbox = target[element]['bbox']\n",
    "rect = patches.Rectangle((bbox[0],bbox[1]),bbox[2],bbox[3], linewidth=3, edgecolor='g',facecolor='none')\n",
    "fig, ax = plt.subplots(figsize=(6,6))\n",
    "ax.imshow(image.permute(1, 2, 0))\n",
    "ax.add_patch(rect)"
   ]
  },
  {
   "cell_type": "markdown",
   "metadata": {
    "id": "YzQHZqDvQl9Z"
   },
   "source": [
    "## COCO Reader with augmentations\n",
    "\n",
    "First of all, install a compatible version of NVIDIA DALI"
   ]
  },
  {
   "cell_type": "code",
   "execution_count": null,
   "metadata": {
    "colab": {
     "base_uri": "https://localhost:8080/",
     "height": 119
    },
    "executionInfo": {
     "elapsed": 52139,
     "status": "ok",
     "timestamp": 1601665763931,
     "user": {
      "displayName": "Dario Dematties Reyes",
      "photoUrl": "https://lh3.googleusercontent.com/a-/AOh14Ghbm_vK9SGiVgOHPAJKbjYBXYYIaiOlPb-OHTeErg=s64",
      "userId": "00584130990476158654"
     },
     "user_tz": 180
    },
    "id": "khFxoy63Ot6c",
    "outputId": "af46ed55-9930-4e7f-d72a-195c1816e4cf"
   },
   "outputs": [],
   "source": [
    "!pip install --extra-index-url https://developer.download.nvidia.com/compute/redist nvidia-dali-cuda100\n",
    "#!pip install --extra-index-url https://developer.download.nvidia.com/compute/redist nvidia-dali-cuda110"
   ]
  },
  {
   "cell_type": "markdown",
   "metadata": {
    "id": "Yd2NUPVRRI_u"
   },
   "source": [
    "Reader operator that reads a COCO dataset (or subset of COCO), which consists of an annotation file and the images directory."
   ]
  },
  {
   "cell_type": "code",
   "execution_count": null,
   "metadata": {
    "id": "-KRNqYG2OdUg"
   },
   "outputs": [],
   "source": [
    "path = '/content/drive/My Drive'\n",
    "\n",
    "from time import time\n",
    "sys.path.append(path + '/Colab Notebooks/Multimodal Active AI/SimCLR/NVIDIA DALI')\n",
    "import NVIDIA_DALI_Pipelines as NDP"
   ]
  },
  {
   "cell_type": "markdown",
   "metadata": {
    "id": "UJlDb3SjmRKG"
   },
   "source": [
    "Reader operator that reads a COCO dataset (or subset of COCO), which consists of an annotation file and the images directory."
   ]
  },
  {
   "cell_type": "code",
   "execution_count": null,
   "metadata": {
    "colab": {
     "base_uri": "https://localhost:8080/",
     "height": 34
    },
    "executionInfo": {
     "elapsed": 58705,
     "status": "ok",
     "timestamp": 1601665770529,
     "user": {
      "displayName": "Dario Dematties Reyes",
      "photoUrl": "https://lh3.googleusercontent.com/a-/AOh14Ghbm_vK9SGiVgOHPAJKbjYBXYYIaiOlPb-OHTeErg=s64",
      "userId": "00584130990476158654"
     },
     "user_tz": 180
    },
    "id": "L3c4Ej8pOdzj",
    "outputId": "f5343061-5182-4608-cd23-a6c445a98ed5"
   },
   "outputs": [],
   "source": [
    "num_gpus = 1\n",
    "batch_size = 4\n",
    "#batch_size = 1024*2\n",
    "start = time()\n",
    "pipes = [NDP.COCOReader(batch_size=batch_size, num_threads=2, device_id = device_id, num_gpus = num_gpus)  for device_id in range(num_gpus)]\n",
    "for pipe in pipes:\n",
    "    pipe.build()\n",
    "total_time = time() - start\n",
    "print(\"Computation graph built and dataset loaded in %f seconds.\" % total_time)"
   ]
  },
  {
   "cell_type": "code",
   "execution_count": null,
   "metadata": {
    "id": "VWFwCUJfn4KZ"
   },
   "outputs": [],
   "source": [
    "pipe_out = [pipe.run() for pipe in pipes]\n",
    "\n",
    "images_gpu = pipe_out[0][0]\n",
    "\n",
    "images_cpu = pipe_out[0][0].as_cpu()\n",
    "bboxes_cpu = pipe_out[0][1]\n",
    "labels_cpu = pipe_out[0][2]"
   ]
  },
  {
   "cell_type": "markdown",
   "metadata": {
    "id": "NhVf1ulDn97Z"
   },
   "source": [
    "Bounding boxes returned by the operator are lists of floats containing composed of **[x, y, width, height]** (`ltrb` is set to `False` by default)."
   ]
  },
  {
   "cell_type": "code",
   "execution_count": null,
   "metadata": {
    "colab": {
     "base_uri": "https://localhost:8080/",
     "height": 51
    },
    "executionInfo": {
     "elapsed": 60638,
     "status": "ok",
     "timestamp": 1601665772490,
     "user": {
      "displayName": "Dario Dematties Reyes",
      "photoUrl": "https://lh3.googleusercontent.com/a-/AOh14Ghbm_vK9SGiVgOHPAJKbjYBXYYIaiOlPb-OHTeErg=s64",
      "userId": "00584130990476158654"
     },
     "user_tz": 180
    },
    "id": "aZh-PbMAoNN7",
    "outputId": "9278a859-e248-401d-e4b7-e73d965f09cb"
   },
   "outputs": [],
   "source": [
    "img_index = 1\n",
    "\n",
    "bboxes = bboxes_cpu.at(img_index)\n",
    "bboxes"
   ]
  },
  {
   "cell_type": "code",
   "execution_count": null,
   "metadata": {
    "colab": {
     "base_uri": "https://localhost:8080/",
     "height": 51
    },
    "executionInfo": {
     "elapsed": 60626,
     "status": "ok",
     "timestamp": 1601665772492,
     "user": {
      "displayName": "Dario Dematties Reyes",
      "photoUrl": "https://lh3.googleusercontent.com/a-/AOh14Ghbm_vK9SGiVgOHPAJKbjYBXYYIaiOlPb-OHTeErg=s64",
      "userId": "00584130990476158654"
     },
     "user_tz": 180
    },
    "id": "dcX1z1Gnp8x2",
    "outputId": "79239d91-6f53-4a44-dfc1-313a00029822"
   },
   "outputs": [],
   "source": [
    "labels = labels_cpu.at(img_index)\n",
    "labels"
   ]
  },
  {
   "cell_type": "markdown",
   "metadata": {
    "id": "WyvA5pHtoWgF"
   },
   "source": [
    "Let’s see the ground truth bounding boxes drawn on the image.\n",
    "\n"
   ]
  },
  {
   "cell_type": "code",
   "execution_count": null,
   "metadata": {
    "colab": {
     "base_uri": "https://localhost:8080/",
     "height": 269
    },
    "executionInfo": {
     "elapsed": 60612,
     "status": "ok",
     "timestamp": 1601665772495,
     "user": {
      "displayName": "Dario Dematties Reyes",
      "photoUrl": "https://lh3.googleusercontent.com/a-/AOh14Ghbm_vK9SGiVgOHPAJKbjYBXYYIaiOlPb-OHTeErg=s64",
      "userId": "00584130990476158654"
     },
     "user_tz": 180
    },
    "id": "So-LjjhNoYMP",
    "outputId": "c77d8059-0836-4ae9-dc29-d79218f8388e"
   },
   "outputs": [],
   "source": [
    "import matplotlib.pyplot as plt\n",
    "import matplotlib.patches as patches\n",
    "import random\n",
    "\n",
    "img = images_cpu.at(img_index)\n",
    "\n",
    "H = img.shape[0]\n",
    "W = img.shape[1]\n",
    "\n",
    "fig,ax = plt.subplots(1)\n",
    "\n",
    "ax.imshow(img)\n",
    "bboxes = bboxes_cpu.at(img_index)\n",
    "labels = labels_cpu.at(img_index)\n",
    "categories_set = set()\n",
    "for label in labels:\n",
    "    categories_set.add(label[0])\n",
    "\n",
    "category_id_to_color = dict([ (cat_id , [random.uniform(0, 1) ,random.uniform(0, 1), random.uniform(0, 1)]) for cat_id in categories_set])\n",
    "\n",
    "for bbox, label in zip(bboxes, labels):\n",
    "    rect = patches.Rectangle((bbox[0]*W,bbox[1]*H),bbox[2]*W,bbox[3]*H,linewidth=2,edgecolor=category_id_to_color[label[0]],facecolor='none')\n",
    "    ax.add_patch(rect)\n",
    "\n",
    "plt.show()"
   ]
  },
  {
   "cell_type": "markdown",
   "metadata": {
    "id": "iByAKaPfmYVY"
   },
   "source": [
    "## COCO Reader with augmentations\n",
    "\n",
    "Create reader, decoder and flip operator for images and bounding boxes"
   ]
  },
  {
   "cell_type": "code",
   "execution_count": null,
   "metadata": {
    "colab": {
     "base_uri": "https://localhost:8080/",
     "height": 34
    },
    "executionInfo": {
     "elapsed": 60601,
     "status": "ok",
     "timestamp": 1601665772498,
     "user": {
      "displayName": "Dario Dematties Reyes",
      "photoUrl": "https://lh3.googleusercontent.com/a-/AOh14Ghbm_vK9SGiVgOHPAJKbjYBXYYIaiOlPb-OHTeErg=s64",
      "userId": "00584130990476158654"
     },
     "user_tz": 180
    },
    "id": "fBOFWXZ4JIAP",
    "outputId": "ee00f73c-4626-4769-aae9-69d8018effe5"
   },
   "outputs": [],
   "source": [
    "NDP.fixation_pos_x = torch.rand((batch_size,1))\n",
    "NDP.fixation_pos_y = torch.rand((batch_size,1))\n",
    "NDP.fixation_angle = (torch.rand((batch_size,1))-0.5)*60\n",
    "\n",
    "#NDP.fixation_pos_x = torch.repeat_interleave(torch.Tensor([0]), batch_size).view(-1,1)\n",
    "#NDP.fixation_pos_y = torch.repeat_interleave(torch.Tensor([0]), batch_size).view(-1,1)\n",
    "#NDP.fixation_angle = torch.repeat_interleave(torch.Tensor([30]), batch_size).view(-1,1)\n",
    "\n",
    "images = NDP.ImageCollector()\n",
    "fixation = NDP.FixationCommand(batch_size)\n",
    "\n",
    "images.data = images_gpu\n",
    "\n",
    "start = time()\n",
    "pipes1 = [NDP.FoveatedRetinalProcessor(batch_size=batch_size, num_threads=2, device_id=device_id, num_gpus=num_gpus, fixation=fixation, images=images)  for device_id in range(num_gpus)]\n",
    "for pipe1 in pipes1:\n",
    "  pipe1.build()\n",
    "\n",
    "total_time = time() - start\n",
    "print(\"Computation graph built and dataset loaded in %f seconds.\" % total_time)"
   ]
  },
  {
   "cell_type": "code",
   "execution_count": null,
   "metadata": {
    "colab": {
     "base_uri": "https://localhost:8080/",
     "height": 34
    },
    "executionInfo": {
     "elapsed": 1518,
     "status": "ok",
     "timestamp": 1601665843503,
     "user": {
      "displayName": "Dario Dematties Reyes",
      "photoUrl": "https://lh3.googleusercontent.com/a-/AOh14Ghbm_vK9SGiVgOHPAJKbjYBXYYIaiOlPb-OHTeErg=s64",
      "userId": "00584130990476158654"
     },
     "user_tz": 180
    },
    "id": "omuxxyu1Y7Gj",
    "outputId": "f29059eb-966b-431f-ad60-5e678a9d2682"
   },
   "outputs": [],
   "source": [
    "NDP.fixation_pos_x = torch.rand((batch_size,1))\n",
    "NDP.fixation_pos_y = torch.rand((batch_size,1))\n",
    "NDP.fixation_angle = (torch.rand((batch_size,1))-0.5)*60\n",
    "\n",
    "#NDP.fixation_pos_x = torch.repeat_interleave(torch.Tensor([0.5]), batch_size).view(-1,1)\n",
    "#NDP.fixation_pos_y = torch.repeat_interleave(torch.Tensor([0.5]), batch_size).view(-1,1)\n",
    "#NDP.fixation_angle = torch.repeat_interleave(torch.Tensor([30]), batch_size).view(-1,1)\n",
    "\n",
    "\n",
    "start = time()\n",
    "pipe_out1 = [pipe1.run() for pipe1 in pipes1]\n",
    "total_time = time() - start\n",
    "print(\"Computation graph run in %f seconds.\" % total_time)\n",
    "\n",
    "crop_images_cpu0 = pipe_out1[0][0].as_cpu()\n",
    "crop_images_cpu1 = pipe_out1[0][1].as_cpu()\n",
    "crop_images_cpu2 = pipe_out1[0][2].as_cpu()\n",
    "crop_images_cpu3 = pipe_out1[0][3].as_cpu()\n",
    "crop_images_cpu4 = pipe_out1[0][4].as_cpu()\n",
    "\n",
    "sized_images_cpu0 = pipe_out1[0][5].as_cpu()\n",
    "sized_images_cpu1 = pipe_out1[0][6].as_cpu()\n",
    "sized_images_cpu2 = pipe_out1[0][7].as_cpu()\n",
    "sized_images_cpu3 = pipe_out1[0][8].as_cpu()\n",
    "sized_images_cpu4 = pipe_out1[0][9].as_cpu()"
   ]
  },
  {
   "cell_type": "code",
   "execution_count": null,
   "metadata": {
    "id": "4sGLlEF4ePTH"
   },
   "outputs": [],
   "source": [
    "#images_gpu.as_cpu().as_array().shape"
   ]
  },
  {
   "cell_type": "markdown",
   "metadata": {
    "id": "_SUuA18Z2Sn6"
   },
   "source": [
    "Let’s see the ground truth bounding boxes drawn on the image.\n"
   ]
  },
  {
   "cell_type": "code",
   "execution_count": null,
   "metadata": {
    "colab": {
     "base_uri": "https://localhost:8080/",
     "height": 1000
    },
    "executionInfo": {
     "elapsed": 6299,
     "status": "ok",
     "timestamp": 1601665852545,
     "user": {
      "displayName": "Dario Dematties Reyes",
      "photoUrl": "https://lh3.googleusercontent.com/a-/AOh14Ghbm_vK9SGiVgOHPAJKbjYBXYYIaiOlPb-OHTeErg=s64",
      "userId": "00584130990476158654"
     },
     "user_tz": 180
    },
    "id": "j63zXmkXmtEf",
    "outputId": "581ab422-0325-4579-904b-bf8654e73879"
   },
   "outputs": [],
   "source": [
    "index = img_index\n",
    "\n",
    "import matplotlib.pyplot as plt\n",
    "import matplotlib.patches as patches\n",
    "import random\n",
    "\n",
    "img0 = crop_images_cpu0.at(index)\n",
    "img1 = crop_images_cpu1.at(index)\n",
    "img2 = crop_images_cpu2.at(index)\n",
    "img3 = crop_images_cpu3.at(index)\n",
    "img4 = crop_images_cpu4.at(index)\n",
    "\n",
    "img5 = sized_images_cpu0.at(index)\n",
    "img6 = sized_images_cpu1.at(index)\n",
    "img7 = sized_images_cpu2.at(index)\n",
    "img8 = sized_images_cpu3.at(index)\n",
    "img9 = sized_images_cpu4.at(index)\n",
    "\n",
    "fig,ax = plt.subplots(5,2, figsize=(25,25))\n",
    "\n",
    "ax[0,0].imshow(img0)\n",
    "ax[1,0].imshow(img1)\n",
    "ax[2,0].imshow(img2)\n",
    "ax[3,0].imshow(img3)\n",
    "ax[4,0].imshow(img4)\n",
    "\n",
    "ax[0,1].imshow(img5)\n",
    "ax[1,1].imshow(img6)\n",
    "ax[2,1].imshow(img7)\n",
    "ax[3,1].imshow(img8)\n",
    "ax[4,1].imshow(img9)"
   ]
  },
  {
   "cell_type": "code",
   "execution_count": null,
   "metadata": {
    "id": "FPbl0z-hwE3N"
   },
   "outputs": [],
   "source": []
  },
  {
   "cell_type": "code",
   "execution_count": null,
   "metadata": {
    "id": "Dis5FpLvhLWa"
   },
   "outputs": [],
   "source": []
  }
 ],
 "metadata": {
  "accelerator": "GPU",
  "colab": {
   "authorship_tag": "ABX9TyMjquQ2fnwHeINmG/EE6dgx",
   "name": "NVIDIA DALI.ipynb",
   "provenance": []
  },
  "kernelspec": {
   "display_name": "Python 3",
   "language": "python",
   "name": "python3"
  },
  "language_info": {
   "codemirror_mode": {
    "name": "ipython",
    "version": 3
   },
   "file_extension": ".py",
   "mimetype": "text/x-python",
   "name": "python",
   "nbconvert_exporter": "python",
   "pygments_lexer": "ipython3",
   "version": "3.8.5"
  }
 },
 "nbformat": 4,
 "nbformat_minor": 1
}
